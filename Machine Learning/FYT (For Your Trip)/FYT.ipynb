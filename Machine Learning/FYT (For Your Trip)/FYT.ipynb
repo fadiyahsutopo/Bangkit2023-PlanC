{
 "cells": [
  {
   "cell_type": "code",
   "execution_count": 1,
   "id": "2a468e56",
   "metadata": {},
   "outputs": [],
   "source": [
    "#!pip install tensorflow"
   ]
  },
  {
   "cell_type": "code",
   "execution_count": 2,
   "id": "b9a86b56",
   "metadata": {},
   "outputs": [],
   "source": [
    "import numpy as np\n",
    "import tensorflow as tf\n",
    "import pandas as pd\n",
    "import os\n",
    "import matplotlib.pyplot as plt\n",
    "import seaborn as sns\n",
    "import requests\n",
    "from sklearn.metrics.pairwise import cosine_similarity\n",
    "from PIL import Image\n",
    "from io import BytesIO\n",
    "from PIL import Image\n",
    "from keras.models import load_model\n",
    "from tensorflow.keras.preprocessing.image import img_to_array\n",
    "from tensorflow.keras import Model\n",
    "from tensorflow.keras.utils import img_to_array, load_img"
   ]
  },
  {
   "cell_type": "code",
   "execution_count": 3,
   "id": "68ec370b",
   "metadata": {},
   "outputs": [
    {
     "data": {
      "text/html": [
       "<div>\n",
       "<style scoped>\n",
       "    .dataframe tbody tr th:only-of-type {\n",
       "        vertical-align: middle;\n",
       "    }\n",
       "\n",
       "    .dataframe tbody tr th {\n",
       "        vertical-align: top;\n",
       "    }\n",
       "\n",
       "    .dataframe thead th {\n",
       "        text-align: right;\n",
       "    }\n",
       "</style>\n",
       "<table border=\"1\" class=\"dataframe\">\n",
       "  <thead>\n",
       "    <tr style=\"text-align: right;\">\n",
       "      <th></th>\n",
       "      <th>user_id</th>\n",
       "      <th>username</th>\n",
       "      <th>category</th>\n",
       "      <th>image_id</th>\n",
       "      <th>image_url</th>\n",
       "    </tr>\n",
       "  </thead>\n",
       "  <tbody>\n",
       "    <tr>\n",
       "      <th>0</th>\n",
       "      <td>1</td>\n",
       "      <td>fadiyahuwu</td>\n",
       "      <td>gunung</td>\n",
       "      <td>1</td>\n",
       "      <td>https://storage.googleapis.com/planc-product-c...</td>\n",
       "    </tr>\n",
       "    <tr>\n",
       "      <th>1</th>\n",
       "      <td>1</td>\n",
       "      <td>fadiyahuwu</td>\n",
       "      <td>taman bermain</td>\n",
       "      <td>2</td>\n",
       "      <td>https://storage.googleapis.com/planc-product-c...</td>\n",
       "    </tr>\n",
       "    <tr>\n",
       "      <th>2</th>\n",
       "      <td>2</td>\n",
       "      <td>curiousgeorge</td>\n",
       "      <td>gunung</td>\n",
       "      <td>3</td>\n",
       "      <td>https://storage.googleapis.com/planc-product-c...</td>\n",
       "    </tr>\n",
       "    <tr>\n",
       "      <th>3</th>\n",
       "      <td>2</td>\n",
       "      <td>curiousgeorge</td>\n",
       "      <td>taman bermain</td>\n",
       "      <td>4</td>\n",
       "      <td>https://storage.googleapis.com/planc-product-c...</td>\n",
       "    </tr>\n",
       "    <tr>\n",
       "      <th>4</th>\n",
       "      <td>3</td>\n",
       "      <td>lebahganteng</td>\n",
       "      <td>gunung</td>\n",
       "      <td>5</td>\n",
       "      <td>https://storage.googleapis.com/planc-product-c...</td>\n",
       "    </tr>\n",
       "    <tr>\n",
       "      <th>5</th>\n",
       "      <td>3</td>\n",
       "      <td>lebahganteng</td>\n",
       "      <td>taman bermain</td>\n",
       "      <td>6</td>\n",
       "      <td>https://storage.googleapis.com/planc-product-c...</td>\n",
       "    </tr>\n",
       "    <tr>\n",
       "      <th>6</th>\n",
       "      <td>3</td>\n",
       "      <td>lebahganteng</td>\n",
       "      <td>museum</td>\n",
       "      <td>7</td>\n",
       "      <td>https://storage.googleapis.com/planc-product-c...</td>\n",
       "    </tr>\n",
       "    <tr>\n",
       "      <th>7</th>\n",
       "      <td>3</td>\n",
       "      <td>lebahganteng</td>\n",
       "      <td>sungai</td>\n",
       "      <td>8</td>\n",
       "      <td>https://storage.googleapis.com/planc-product-c...</td>\n",
       "    </tr>\n",
       "    <tr>\n",
       "      <th>8</th>\n",
       "      <td>3</td>\n",
       "      <td>lebahganteng</td>\n",
       "      <td>pantai</td>\n",
       "      <td>9</td>\n",
       "      <td>https://storage.googleapis.com/planc-product-c...</td>\n",
       "    </tr>\n",
       "    <tr>\n",
       "      <th>9</th>\n",
       "      <td>4</td>\n",
       "      <td>salsaselasa</td>\n",
       "      <td>gunung</td>\n",
       "      <td>10</td>\n",
       "      <td>https://storage.googleapis.com/planc-product-c...</td>\n",
       "    </tr>\n",
       "  </tbody>\n",
       "</table>\n",
       "</div>"
      ],
      "text/plain": [
       "   user_id       username       category  image_id  \\\n",
       "0        1     fadiyahuwu         gunung         1   \n",
       "1        1     fadiyahuwu  taman bermain         2   \n",
       "2        2  curiousgeorge         gunung         3   \n",
       "3        2  curiousgeorge  taman bermain         4   \n",
       "4        3   lebahganteng         gunung         5   \n",
       "5        3   lebahganteng  taman bermain         6   \n",
       "6        3   lebahganteng         museum         7   \n",
       "7        3   lebahganteng         sungai         8   \n",
       "8        3   lebahganteng         pantai         9   \n",
       "9        4    salsaselasa         gunung        10   \n",
       "\n",
       "                                           image_url  \n",
       "0  https://storage.googleapis.com/planc-product-c...  \n",
       "1  https://storage.googleapis.com/planc-product-c...  \n",
       "2  https://storage.googleapis.com/planc-product-c...  \n",
       "3  https://storage.googleapis.com/planc-product-c...  \n",
       "4  https://storage.googleapis.com/planc-product-c...  \n",
       "5  https://storage.googleapis.com/planc-product-c...  \n",
       "6  https://storage.googleapis.com/planc-product-c...  \n",
       "7  https://storage.googleapis.com/planc-product-c...  \n",
       "8  https://storage.googleapis.com/planc-product-c...  \n",
       "9  https://storage.googleapis.com/planc-product-c...  "
      ]
     },
     "execution_count": 3,
     "metadata": {},
     "output_type": "execute_result"
    }
   ],
   "source": [
    "data = pd.read_csv('fyt.csv')\n",
    "\n",
    "data.head(10)"
   ]
  },
  {
   "cell_type": "code",
   "execution_count": 4,
   "id": "b2c21898",
   "metadata": {},
   "outputs": [
    {
     "name": "stdout",
     "output_type": "stream",
     "text": [
      "Total number of user_id :  64\n",
      "Total number of user_id :  30\n",
      "Total number of username :  30\n",
      "Total number of unique category :  7\n",
      "Total number of unique image_id :  64\n",
      "Total number of unique image_url :  63\n"
     ]
    }
   ],
   "source": [
    "print(\"Total number of user_id : \", data.shape[0])\n",
    "print(\"Total number of user_id : \", data[\"user_id\"].nunique())\n",
    "print(\"Total number of username : \", data[\"username\"].nunique())\n",
    "print(\"Total number of unique category : \", data[\"category\"].nunique())\n",
    "print(\"Total number of unique image_id : \", data[\"image_id\"].nunique())\n",
    "print(\"Total number of unique image_url : \", data[\"image_url\"].nunique())"
   ]
  },
  {
   "cell_type": "code",
   "execution_count": 5,
   "id": "45fb6fa0",
   "metadata": {},
   "outputs": [
    {
     "data": {
      "text/plain": [
       "gunung           27\n",
       "pantai            8\n",
       "taman bermain     6\n",
       "museum            6\n",
       "sungai            6\n",
       "air terjun        6\n",
       "candi             5\n",
       "Name: category, dtype: int64"
      ]
     },
     "execution_count": 5,
     "metadata": {},
     "output_type": "execute_result"
    }
   ],
   "source": [
    "data['category'].value_counts()"
   ]
  },
  {
   "cell_type": "code",
   "execution_count": 6,
   "id": "4b637fc7",
   "metadata": {
    "scrolled": true
   },
   "outputs": [
    {
     "name": "stderr",
     "output_type": "stream",
     "text": [
      "C:\\Users\\Salsabila\\anaconda3\\lib\\site-packages\\seaborn\\_decorators.py:36: FutureWarning: Pass the following variable as a keyword arg: x. From version 0.12, the only valid positional argument will be `data`, and passing other arguments without an explicit keyword will result in an error or misinterpretation.\n",
      "  warnings.warn(\n"
     ]
    },
    {
     "data": {
      "text/plain": [
       "[Text(0, 0, 'gunung'),\n",
       " Text(1, 0, 'taman bermain'),\n",
       " Text(2, 0, 'museum'),\n",
       " Text(3, 0, 'sungai'),\n",
       " Text(4, 0, 'pantai'),\n",
       " Text(5, 0, 'candi'),\n",
       " Text(6, 0, 'air terjun')]"
      ]
     },
     "execution_count": 6,
     "metadata": {},
     "output_type": "execute_result"
    },
    {
     "data": {
      "image/png": "[encoded data removed]",
      "text/plain": [
       "<Figure size 432x288 with 1 Axes>"
      ]
     },
     "metadata": {
      "needs_background": "light"
     },
     "output_type": "display_data"
    }
   ],
   "source": [
    "plot = sns.countplot(data[\"category\"])\n",
    "plt.title(\"Distribution of category\")\n",
    "plt.xlabel(\"category\")\n",
    "plt.ylabel(\"username\")\n",
    "plot.set_xticklabels(plot.get_xticklabels())"
   ]
  },
  {
   "cell_type": "code",
   "execution_count": 7,
   "id": "aeab449a",
   "metadata": {},
   "outputs": [
    {
     "name": "stdout",
     "output_type": "stream",
     "text": [
      "Index(['user_id', 'username', 'category', 'image_id', 'image_url'], dtype='object')\n"
     ]
    }
   ],
   "source": [
    "print(data.columns)"
   ]
  },
  {
   "cell_type": "code",
   "execution_count": 8,
   "id": "ce6f78a2",
   "metadata": {},
   "outputs": [
    {
     "name": "stdout",
     "output_type": "stream",
     "text": [
      "user_id       int64\n",
      "username     object\n",
      "category     object\n",
      "image_id      int64\n",
      "image_url    object\n",
      "dtype: object\n"
     ]
    }
   ],
   "source": [
    "print(data.dtypes)"
   ]
  },
  {
   "cell_type": "code",
   "execution_count": 9,
   "id": "b1496bd7",
   "metadata": {},
   "outputs": [],
   "source": [
    "#load model classification\n",
    "model = tf.keras.models.load_model('classification.h5')"
   ]
  },
  {
   "cell_type": "code",
   "execution_count": 10,
   "id": "4dc11357",
   "metadata": {
    "scrolled": true
   },
   "outputs": [
    {
     "name": "stdout",
     "output_type": "stream",
     "text": [
      "Model: \"sequential\"\n",
      "_________________________________________________________________\n",
      " Layer (type)                Output Shape              Param #   \n",
      "=================================================================\n",
      " conv2d (Conv2D)             (None, 148, 148, 16)      448       \n",
      "                                                                 \n",
      " max_pooling2d (MaxPooling2D  (None, 74, 74, 16)       0         \n",
      " )                                                               \n",
      "                                                                 \n",
      " conv2d_1 (Conv2D)           (None, 72, 72, 32)        4640      \n",
      "                                                                 \n",
      " max_pooling2d_1 (MaxPooling  (None, 36, 36, 32)       0         \n",
      " 2D)                                                             \n",
      "                                                                 \n",
      " conv2d_2 (Conv2D)           (None, 34, 34, 64)        18496     \n",
      "                                                                 \n",
      " max_pooling2d_2 (MaxPooling  (None, 17, 17, 64)       0         \n",
      " 2D)                                                             \n",
      "                                                                 \n",
      " flatten (Flatten)           (None, 18496)             0         \n",
      "                                                                 \n",
      " dense (Dense)               (None, 512)               9470464   \n",
      "                                                                 \n",
      " dense_1 (Dense)             (None, 7)                 3591      \n",
      "                                                                 \n",
      "=================================================================\n",
      "Total params: 9,497,639\n",
      "Trainable params: 9,497,639\n",
      "Non-trainable params: 0\n",
      "_________________________________________________________________\n"
     ]
    }
   ],
   "source": [
    "model.summary()"
   ]
  },
  {
   "cell_type": "code",
   "execution_count": 14,
   "id": "a0d8e55b",
   "metadata": {
    "scrolled": true
   },
   "outputs": [
    {
     "name": "stdout",
     "output_type": "stream",
     "text": [
      "https://storage.googleapis.com/planc-product-capstone-bucket/user_img/user_img/gunung/1_gunung.jpg\n",
      "1/1 [==============================] - 0s 271ms/step\n",
      "https://storage.googleapis.com/planc-product-capstone-bucket/user_img/user_img/taman%20bermain/1_taman%20bermain.jpg\n",
      "1/1 [==============================] - 0s 99ms/step\n",
      "https://storage.googleapis.com/planc-product-capstone-bucket/user_img/user_img/gunung/2_gunung.jpg\n",
      "1/1 [==============================] - 0s 40ms/step\n",
      "https://storage.googleapis.com/planc-product-capstone-bucket/user_img/user_img/taman%20bermain/2_taman%20bermain.jpg\n",
      "1/1 [==============================] - 0s 66ms/step\n",
      "https://storage.googleapis.com/planc-product-capstone-bucket/user_img/user_img/gunung/3_gunung.jpg\n",
      "1/1 [==============================] - 0s 75ms/step\n",
      "https://storage.googleapis.com/planc-product-capstone-bucket/user_img/user_img/taman%20bermain/3_taman%20bermain.jpg\n",
      "1/1 [==============================] - 0s 51ms/step\n",
      "https://storage.googleapis.com/planc-product-capstone-bucket/user_img/user_img/museum/3_museum.jpg\n",
      "1/1 [==============================] - 0s 50ms/step\n",
      "https://storage.googleapis.com/planc-product-capstone-bucket/user_img/user_img/sungai/3_sungai.jpg\n",
      "1/1 [==============================] - 0s 42ms/step\n",
      "https://storage.googleapis.com/planc-product-capstone-bucket/user_img/user_img/pantai/3_pantai.jpg\n",
      "1/1 [==============================] - 0s 48ms/step\n",
      "https://storage.googleapis.com/planc-product-capstone-bucket/user_img/user_img/gunung/4_gunung.jpg\n",
      "1/1 [==============================] - 0s 50ms/step\n",
      "https://storage.googleapis.com/planc-product-capstone-bucket/user_img/user_img/taman%20bermain/4_taman%20bermain.jpg\n",
      "1/1 [==============================] - 0s 40ms/step\n",
      "https://storage.googleapis.com/planc-product-capstone-bucket/user_img/user_img/museum/4_museum.jpg\n",
      "1/1 [==============================] - 0s 44ms/step\n",
      "https://storage.googleapis.com/planc-product-capstone-bucket/user_img/user_img/candi/4_candi.jpg\n",
      "1/1 [==============================] - 0s 42ms/step\n",
      "https://storage.googleapis.com/planc-product-capstone-bucket/user_img/user_img/sungai/4_sungai.jpg\n",
      "1/1 [==============================] - 0s 42ms/step\n",
      "https://storage.googleapis.com/planc-product-capstone-bucket/user_img/user_img/gunung/5_gunung.jpg\n",
      "1/1 [==============================] - 0s 33ms/step\n",
      "https://storage.googleapis.com/planc-product-capstone-bucket/user_img/user_img/air%20terjun/5_air%20terjun.jpg\n",
      "1/1 [==============================] - 0s 100ms/step\n",
      "https://storage.googleapis.com/planc-product-capstone-bucket/user_img/user_img/gunung/6_gunung.jpg\n",
      "1/1 [==============================] - 0s 38ms/step\n",
      "https://storage.googleapis.com/planc-product-capstone-bucket/user_img/user_img/museum/7_museum.jpg\n",
      "1/1 [==============================] - 0s 64ms/step\n",
      "https://storage.googleapis.com/planc-product-capstone-bucket/user_img/user_img/gunung/8_gunung.jpg\n",
      "1/1 [==============================] - 0s 41ms/step\n",
      "https://storage.googleapis.com/planc-product-capstone-bucket/user_img/user_img/candi/8_candi.jpg\n",
      "1/1 [==============================] - 0s 55ms/step\n",
      "https://storage.googleapis.com/planc-product-capstone-bucket/user_img/user_img/air%20terjun/8_air%20terjun.jpg\n",
      "1/1 [==============================] - 0s 60ms/step\n",
      "https://storage.googleapis.com/planc-product-capstone-bucket/user_img/user_img/gunung/8_gunung(1).jpg\n",
      "1/1 [==============================] - 0s 41ms/step\n",
      "https://storage.googleapis.com/planc-product-capstone-bucket/user_img/user_img/taman%20bermain/9_taman%20bermain.jpg\n",
      "1/1 [==============================] - 0s 40ms/step\n",
      "https://storage.googleapis.com/planc-product-capstone-bucket/user_img/user_img/pantai/9_pantai.jpg\n",
      "1/1 [==============================] - 0s 44ms/step\n",
      "https://storage.googleapis.com/planc-product-capstone-bucket/user_img/user_img/air%20terjun/9_air%20terjun.jpg\n",
      "1/1 [==============================] - 0s 37ms/step\n",
      "https://storage.googleapis.com/planc-product-capstone-bucket/user_img/user_img/gunung/10_gunung.jpg\n",
      "1/1 [==============================] - 0s 55ms/step\n",
      "https://storage.googleapis.com/planc-product-capstone-bucket/user_img/user_img/gunung/11_gunung.jpg\n",
      "1/1 [==============================] - 0s 42ms/step\n",
      "https://storage.googleapis.com/planc-product-capstone-bucket/user_img/user_img/gunung/12_gunung.jpg\n",
      "1/1 [==============================] - 0s 58ms/step\n",
      "https://storage.googleapis.com/planc-product-capstone-bucket/user_img/user_img/pantai/12_pantai.jpg\n",
      "1/1 [==============================] - 0s 48ms/step\n",
      "https://storage.googleapis.com/planc-product-capstone-bucket/user_img/user_img/gunung/13_gunung.jpg\n",
      "1/1 [==============================] - 0s 42ms/step\n",
      "https://storage.googleapis.com/planc-product-capstone-bucket/user_img/user_img/candi/13_candi.jpg\n",
      "1/1 [==============================] - 0s 41ms/step\n",
      "https://storage.googleapis.com/planc-product-capstone-bucket/user_img/user_img/gunung/14_gunung.jpg\n",
      "1/1 [==============================] - 0s 39ms/step\n",
      "https://storage.googleapis.com/planc-product-capstone-bucket/user_img/user_img/candi/14_candi.jpg\n",
      "1/1 [==============================] - 0s 48ms/step\n",
      "https://storage.googleapis.com/planc-product-capstone-bucket/user_img/user_img/air%20terjun/14_air%20terjun.jpg\n",
      "1/1 [==============================] - 0s 44ms/step\n",
      "https://storage.googleapis.com/planc-product-capstone-bucket/user_img/user_img/gunung/15_gunung.jpg\n",
      "1/1 [==============================] - 0s 48ms/step\n",
      "https://storage.googleapis.com/planc-product-capstone-bucket/user_img/user_img/air%20terjun/15_air%20terjun.jpg\n",
      "1/1 [==============================] - 0s 38ms/step\n",
      "https://storage.googleapis.com/planc-product-capstone-bucket/user_img/user_img/gunung/16_gunung.jpg\n",
      "1/1 [==============================] - 0s 45ms/step\n",
      "https://storage.googleapis.com/planc-product-capstone-bucket/user_img/user_img/gunung/16_gunung.jpg\n",
      "1/1 [==============================] - 0s 46ms/step\n",
      "https://storage.googleapis.com/planc-product-capstone-bucket/user_img/user_img/sungai/17_sungai.jpg\n",
      "1/1 [==============================] - 0s 44ms/step\n",
      "https://storage.googleapis.com/planc-product-capstone-bucket/user_img/user_img/candi/17_candi.jpg\n",
      "1/1 [==============================] - 0s 47ms/step\n",
      "https://storage.googleapis.com/planc-product-capstone-bucket/user_img/user_img/gunung/18_gunung.jpg\n",
      "1/1 [==============================] - 0s 47ms/step\n",
      "https://storage.googleapis.com/planc-product-capstone-bucket/user_img/user_img/pantai/18_pantai.jpg\n",
      "1/1 [==============================] - 0s 50ms/step\n",
      "https://storage.googleapis.com/planc-product-capstone-bucket/user_img/user_img/gunung/19_gunung.jpg\n",
      "1/1 [==============================] - 0s 51ms/step\n",
      "https://storage.googleapis.com/planc-product-capstone-bucket/user_img/user_img/pantai/19_pantai.jpg\n",
      "1/1 [==============================] - 0s 46ms/step\n",
      "https://storage.googleapis.com/planc-product-capstone-bucket/user_img/user_img/air%20terjun/19_air%20terjun.jpg\n",
      "1/1 [==============================] - 0s 45ms/step\n",
      "https://storage.googleapis.com/planc-product-capstone-bucket/user_img/user_img/gunung/20_gunung.jpg\n",
      "1/1 [==============================] - 0s 44ms/step\n",
      "https://storage.googleapis.com/planc-product-capstone-bucket/user_img/user_img/sungai/20_sungai.jpg\n",
      "1/1 [==============================] - 0s 40ms/step\n",
      "https://storage.googleapis.com/planc-product-capstone-bucket/user_img/user_img/gunung/21_gunung.jpg\n",
      "1/1 [==============================] - 0s 45ms/step\n",
      "https://storage.googleapis.com/planc-product-capstone-bucket/user_img/user_img/sungai/21_sungai.jpg\n",
      "1/1 [==============================] - 0s 46ms/step\n",
      "https://storage.googleapis.com/planc-product-capstone-bucket/user_img/user_img/museum/22_museum.jpg\n",
      "1/1 [==============================] - 0s 38ms/step\n",
      "https://storage.googleapis.com/planc-product-capstone-bucket/user_img/user_img/gunung/23_gunung.jpg\n",
      "1/1 [==============================] - 0s 40ms/step\n",
      "https://storage.googleapis.com/planc-product-capstone-bucket/user_img/user_img/museum/23_museum.jpg\n",
      "1/1 [==============================] - 0s 42ms/step\n",
      "https://storage.googleapis.com/planc-product-capstone-bucket/user_img/user_img/taman%20bermain/23_taman%20bermain.jpg\n",
      "1/1 [==============================] - 0s 54ms/step\n",
      "https://storage.googleapis.com/planc-product-capstone-bucket/user_img/user_img/gunung/24_gunung.jpg\n",
      "1/1 [==============================] - 0s 37ms/step\n",
      "https://storage.googleapis.com/planc-product-capstone-bucket/user_img/user_img/gunung/25_gunung.jpg\n",
      "1/1 [==============================] - 0s 52ms/step\n",
      "https://storage.googleapis.com/planc-product-capstone-bucket/user_img/user_img/sungai/25_sungai.jpg\n",
      "1/1 [==============================] - 0s 54ms/step\n",
      "https://storage.googleapis.com/planc-product-capstone-bucket/user_img/user_img/pantai/25_pantai.jpg\n",
      "1/1 [==============================] - 0s 58ms/step\n",
      "https://storage.googleapis.com/planc-product-capstone-bucket/user_img/user_img/gunung/26_gunung.jpg\n",
      "1/1 [==============================] - 0s 43ms/step\n",
      "https://storage.googleapis.com/planc-product-capstone-bucket/user_img/user_img/pantai/26_pantai.jpg\n",
      "1/1 [==============================] - 0s 40ms/step\n",
      "https://storage.googleapis.com/planc-product-capstone-bucket/user_img/user_img/gunung/27_gunung.jpg\n",
      "1/1 [==============================] - 0s 45ms/step\n",
      "https://storage.googleapis.com/planc-product-capstone-bucket/user_img/user_img/pantai/28_pantai.jpg\n",
      "1/1 [==============================] - 0s 40ms/step\n",
      "https://storage.googleapis.com/planc-product-capstone-bucket/user_img/user_img/gunung/29_gunung.jpg\n",
      "1/1 [==============================] - 0s 57ms/step\n",
      "https://storage.googleapis.com/planc-product-capstone-bucket/user_img/user_img/museum/29_museum.jpg\n",
      "1/1 [==============================] - 0s 50ms/step\n",
      "https://storage.googleapis.com/planc-product-capstone-bucket/user_img/user_img/gunung/30_gunung.jpg\n",
      "1/1 [==============================] - 0s 50ms/step\n",
      "Data berhasil diekstraksi:\n"
     ]
    }
   ],
   "source": [
    "def load_and_preprocess_image(image_url):\n",
    "    response = requests.get(image_url)\n",
    "    image_data = response.content\n",
    "    \n",
    "    image = Image.open(BytesIO(image_data))\n",
    "    image = image.resize((150, 150))\n",
    "    image = np.array(image)\n",
    "    image = image / 255.0  \n",
    "    return image\n",
    "\n",
    "image_features = pd.DataFrame(columns=['user_id', 'image_feature', 'content_url'])\n",
    "for index, row in data.iterrows():\n",
    "    user_id = row['user_id']\n",
    "    image_url = row['image_url']\n",
    "    print(image_url)\n",
    "    \n",
    "    image = load_and_preprocess_image(image_url)\n",
    "    features = model.predict(np.expand_dims(image, axis=0))\n",
    "    image_features = image_features.append({'user_id': user_id, 'image_feature': features.flatten(), 'content_url' : str(image_url)}, ignore_index=True)\n",
    "\n",
    "merged_data = pd.merge(data, image_features, on='user_id')\n",
    "print(\"Data berhasil diekstraksi:\")\n",
    "#print(merged_data)"
   ]
  },
  {
   "cell_type": "code",
   "execution_count": 15,
   "id": "4249d856",
   "metadata": {},
   "outputs": [
    {
     "data": {
      "text/html": [
       "<div>\n",
       "<style scoped>\n",
       "    .dataframe tbody tr th:only-of-type {\n",
       "        vertical-align: middle;\n",
       "    }\n",
       "\n",
       "    .dataframe tbody tr th {\n",
       "        vertical-align: top;\n",
       "    }\n",
       "\n",
       "    .dataframe thead th {\n",
       "        text-align: right;\n",
       "    }\n",
       "</style>\n",
       "<table border=\"1\" class=\"dataframe\">\n",
       "  <thead>\n",
       "    <tr style=\"text-align: right;\">\n",
       "      <th></th>\n",
       "      <th>user_id</th>\n",
       "      <th>username</th>\n",
       "      <th>category</th>\n",
       "      <th>image_id</th>\n",
       "      <th>image_url</th>\n",
       "      <th>image_feature</th>\n",
       "      <th>content_url</th>\n",
       "    </tr>\n",
       "  </thead>\n",
       "  <tbody>\n",
       "    <tr>\n",
       "      <th>0</th>\n",
       "      <td>1</td>\n",
       "      <td>fadiyahuwu</td>\n",
       "      <td>gunung</td>\n",
       "      <td>1</td>\n",
       "      <td>https://storage.googleapis.com/planc-product-c...</td>\n",
       "      <td>[8.4541504e-08, 1.0063518e-07, 0.999793, 8.777...</td>\n",
       "      <td>https://storage.googleapis.com/planc-product-c...</td>\n",
       "    </tr>\n",
       "    <tr>\n",
       "      <th>1</th>\n",
       "      <td>1</td>\n",
       "      <td>fadiyahuwu</td>\n",
       "      <td>gunung</td>\n",
       "      <td>1</td>\n",
       "      <td>https://storage.googleapis.com/planc-product-c...</td>\n",
       "      <td>[0.16042207, 0.0017140971, 0.82458746, 0.00012...</td>\n",
       "      <td>https://storage.googleapis.com/planc-product-c...</td>\n",
       "    </tr>\n",
       "    <tr>\n",
       "      <th>2</th>\n",
       "      <td>1</td>\n",
       "      <td>fadiyahuwu</td>\n",
       "      <td>taman bermain</td>\n",
       "      <td>2</td>\n",
       "      <td>https://storage.googleapis.com/planc-product-c...</td>\n",
       "      <td>[8.4541504e-08, 1.0063518e-07, 0.999793, 8.777...</td>\n",
       "      <td>https://storage.googleapis.com/planc-product-c...</td>\n",
       "    </tr>\n",
       "    <tr>\n",
       "      <th>3</th>\n",
       "      <td>1</td>\n",
       "      <td>fadiyahuwu</td>\n",
       "      <td>taman bermain</td>\n",
       "      <td>2</td>\n",
       "      <td>https://storage.googleapis.com/planc-product-c...</td>\n",
       "      <td>[0.16042207, 0.0017140971, 0.82458746, 0.00012...</td>\n",
       "      <td>https://storage.googleapis.com/planc-product-c...</td>\n",
       "    </tr>\n",
       "    <tr>\n",
       "      <th>4</th>\n",
       "      <td>2</td>\n",
       "      <td>curiousgeorge</td>\n",
       "      <td>gunung</td>\n",
       "      <td>3</td>\n",
       "      <td>https://storage.googleapis.com/planc-product-c...</td>\n",
       "      <td>[4.5139099e-13, 1.2367175e-14, 0.9980532, 1.13...</td>\n",
       "      <td>https://storage.googleapis.com/planc-product-c...</td>\n",
       "    </tr>\n",
       "  </tbody>\n",
       "</table>\n",
       "</div>"
      ],
      "text/plain": [
       "  user_id       username       category  image_id  \\\n",
       "0       1     fadiyahuwu         gunung         1   \n",
       "1       1     fadiyahuwu         gunung         1   \n",
       "2       1     fadiyahuwu  taman bermain         2   \n",
       "3       1     fadiyahuwu  taman bermain         2   \n",
       "4       2  curiousgeorge         gunung         3   \n",
       "\n",
       "                                           image_url  \\\n",
       "0  https://storage.googleapis.com/planc-product-c...   \n",
       "1  https://storage.googleapis.com/planc-product-c...   \n",
       "2  https://storage.googleapis.com/planc-product-c...   \n",
       "3  https://storage.googleapis.com/planc-product-c...   \n",
       "4  https://storage.googleapis.com/planc-product-c...   \n",
       "\n",
       "                                       image_feature  \\\n",
       "0  [8.4541504e-08, 1.0063518e-07, 0.999793, 8.777...   \n",
       "1  [0.16042207, 0.0017140971, 0.82458746, 0.00012...   \n",
       "2  [8.4541504e-08, 1.0063518e-07, 0.999793, 8.777...   \n",
       "3  [0.16042207, 0.0017140971, 0.82458746, 0.00012...   \n",
       "4  [4.5139099e-13, 1.2367175e-14, 0.9980532, 1.13...   \n",
       "\n",
       "                                         content_url  \n",
       "0  https://storage.googleapis.com/planc-product-c...  \n",
       "1  https://storage.googleapis.com/planc-product-c...  \n",
       "2  https://storage.googleapis.com/planc-product-c...  \n",
       "3  https://storage.googleapis.com/planc-product-c...  \n",
       "4  https://storage.googleapis.com/planc-product-c...  "
      ]
     },
     "execution_count": 15,
     "metadata": {},
     "output_type": "execute_result"
    }
   ],
   "source": [
    "merged_data.head()"
   ]
  },
  {
   "cell_type": "code",
   "execution_count": 16,
   "id": "5dfdec20",
   "metadata": {},
   "outputs": [
    {
     "data": {
      "text/html": [
       "<div>\n",
       "<style scoped>\n",
       "    .dataframe tbody tr th:only-of-type {\n",
       "        vertical-align: middle;\n",
       "    }\n",
       "\n",
       "    .dataframe tbody tr th {\n",
       "        vertical-align: top;\n",
       "    }\n",
       "\n",
       "    .dataframe thead th {\n",
       "        text-align: right;\n",
       "    }\n",
       "</style>\n",
       "<table border=\"1\" class=\"dataframe\">\n",
       "  <thead>\n",
       "    <tr style=\"text-align: right;\">\n",
       "      <th></th>\n",
       "      <th>user_id</th>\n",
       "      <th>image_feature</th>\n",
       "      <th>content_url</th>\n",
       "    </tr>\n",
       "  </thead>\n",
       "  <tbody>\n",
       "    <tr>\n",
       "      <th>0</th>\n",
       "      <td>1</td>\n",
       "      <td>[8.4541504e-08, 1.0063518e-07, 0.999793, 8.777...</td>\n",
       "      <td>https://storage.googleapis.com/planc-product-c...</td>\n",
       "    </tr>\n",
       "    <tr>\n",
       "      <th>1</th>\n",
       "      <td>1</td>\n",
       "      <td>[0.16042207, 0.0017140971, 0.82458746, 0.00012...</td>\n",
       "      <td>https://storage.googleapis.com/planc-product-c...</td>\n",
       "    </tr>\n",
       "    <tr>\n",
       "      <th>2</th>\n",
       "      <td>2</td>\n",
       "      <td>[4.5139099e-13, 1.2367175e-14, 0.9980532, 1.13...</td>\n",
       "      <td>https://storage.googleapis.com/planc-product-c...</td>\n",
       "    </tr>\n",
       "    <tr>\n",
       "      <th>3</th>\n",
       "      <td>2</td>\n",
       "      <td>[2.11998e-05, 0.00018672136, 0.22882694, 0.002...</td>\n",
       "      <td>https://storage.googleapis.com/planc-product-c...</td>\n",
       "    </tr>\n",
       "    <tr>\n",
       "      <th>4</th>\n",
       "      <td>3</td>\n",
       "      <td>[0.002339982, 3.015616e-09, 0.9700075, 3.27640...</td>\n",
       "      <td>https://storage.googleapis.com/planc-product-c...</td>\n",
       "    </tr>\n",
       "    <tr>\n",
       "      <th>5</th>\n",
       "      <td>3</td>\n",
       "      <td>[0.0048438706, 0.007954306, 0.02330655, 0.0165...</td>\n",
       "      <td>https://storage.googleapis.com/planc-product-c...</td>\n",
       "    </tr>\n",
       "    <tr>\n",
       "      <th>6</th>\n",
       "      <td>3</td>\n",
       "      <td>[0.0020036532, 0.0006512417, 0.04143725, 1.368...</td>\n",
       "      <td>https://storage.googleapis.com/planc-product-c...</td>\n",
       "    </tr>\n",
       "    <tr>\n",
       "      <th>7</th>\n",
       "      <td>3</td>\n",
       "      <td>[0.15907034, 0.00014661843, 0.024731256, 7.086...</td>\n",
       "      <td>https://storage.googleapis.com/planc-product-c...</td>\n",
       "    </tr>\n",
       "    <tr>\n",
       "      <th>8</th>\n",
       "      <td>3</td>\n",
       "      <td>[0.015982304, 0.01423987, 0.20614183, 0.000204...</td>\n",
       "      <td>https://storage.googleapis.com/planc-product-c...</td>\n",
       "    </tr>\n",
       "    <tr>\n",
       "      <th>9</th>\n",
       "      <td>4</td>\n",
       "      <td>[8.576117e-05, 7.21135e-06, 0.9802214, 3.99726...</td>\n",
       "      <td>https://storage.googleapis.com/planc-product-c...</td>\n",
       "    </tr>\n",
       "  </tbody>\n",
       "</table>\n",
       "</div>"
      ],
      "text/plain": [
       "  user_id                                      image_feature  \\\n",
       "0       1  [8.4541504e-08, 1.0063518e-07, 0.999793, 8.777...   \n",
       "1       1  [0.16042207, 0.0017140971, 0.82458746, 0.00012...   \n",
       "2       2  [4.5139099e-13, 1.2367175e-14, 0.9980532, 1.13...   \n",
       "3       2  [2.11998e-05, 0.00018672136, 0.22882694, 0.002...   \n",
       "4       3  [0.002339982, 3.015616e-09, 0.9700075, 3.27640...   \n",
       "5       3  [0.0048438706, 0.007954306, 0.02330655, 0.0165...   \n",
       "6       3  [0.0020036532, 0.0006512417, 0.04143725, 1.368...   \n",
       "7       3  [0.15907034, 0.00014661843, 0.024731256, 7.086...   \n",
       "8       3  [0.015982304, 0.01423987, 0.20614183, 0.000204...   \n",
       "9       4  [8.576117e-05, 7.21135e-06, 0.9802214, 3.99726...   \n",
       "\n",
       "                                         content_url  \n",
       "0  https://storage.googleapis.com/planc-product-c...  \n",
       "1  https://storage.googleapis.com/planc-product-c...  \n",
       "2  https://storage.googleapis.com/planc-product-c...  \n",
       "3  https://storage.googleapis.com/planc-product-c...  \n",
       "4  https://storage.googleapis.com/planc-product-c...  \n",
       "5  https://storage.googleapis.com/planc-product-c...  \n",
       "6  https://storage.googleapis.com/planc-product-c...  \n",
       "7  https://storage.googleapis.com/planc-product-c...  \n",
       "8  https://storage.googleapis.com/planc-product-c...  \n",
       "9  https://storage.googleapis.com/planc-product-c...  "
      ]
     },
     "execution_count": 16,
     "metadata": {},
     "output_type": "execute_result"
    }
   ],
   "source": [
    "image_features.head(10)"
   ]
  },
  {
   "cell_type": "code",
   "execution_count": 19,
   "id": "f71ca717",
   "metadata": {},
   "outputs": [],
   "source": [
    "def load_and_preprocess_image(image_url):\n",
    "    response = requests.get(image_url)\n",
    "    image = Image.open(BytesIO(response.content))\n",
    "    image = image.resize((150, 150)) \n",
    "    image = np.array(image)\n",
    "    image = image / .255\n",
    "    return image\n",
    "\n",
    "def recommend_similar_images(data, new_image_url, top_n=10):\n",
    "    new_image = load_and_preprocess_image(new_image_url)\n",
    "    new_image = np.expand_dims(new_image, axis=0)\n",
    "    new_image_feature = model.predict(new_image).flatten()\n",
    "\n",
    "    image_feature_vectors = np.vstack(data['image_feature'].values)\n",
    "    cosine_sim_matrix = cosine_similarity(image_feature_vectors, np.expand_dims(new_image_feature, axis=0))\n",
    "    similarity_scores = cosine_sim_matrix.flatten()\n",
    "    sorted_indices = np.argsort(similarity_scores)[::-1][:top_n]\n",
    "\n",
    "    recommended_images = data.iloc[sorted_indices]\n",
    "    return recommended_images\n",
    "\n"
   ]
  },
  {
   "cell_type": "code",
   "execution_count": 20,
   "id": "c092b8a7",
   "metadata": {
    "scrolled": true
   },
   "outputs": [
    {
     "name": "stdout",
     "output_type": "stream",
     "text": [
      "1/1 [==============================] - 0s 49ms/step\n",
      "https://storage.googleapis.com/planc-product-capstone-bucket/user_img/user_img/gunung/1_gunung.jpg\n",
      "https://storage.googleapis.com/planc-product-capstone-bucket/user_img/user_img/gunung/8_gunung(1).jpg\n",
      "https://storage.googleapis.com/planc-product-capstone-bucket/user_img/user_img/gunung/24_gunung.jpg\n",
      "https://storage.googleapis.com/planc-product-capstone-bucket/user_img/user_img/gunung/21_gunung.jpg\n",
      "https://storage.googleapis.com/planc-product-capstone-bucket/user_img/user_img/gunung/2_gunung.jpg\n",
      "https://storage.googleapis.com/planc-product-capstone-bucket/user_img/user_img/sungai/4_sungai.jpg\n",
      "https://storage.googleapis.com/planc-product-capstone-bucket/user_img/user_img/gunung/26_gunung.jpg\n",
      "https://storage.googleapis.com/planc-product-capstone-bucket/user_img/user_img/gunung/15_gunung.jpg\n",
      "https://storage.googleapis.com/planc-product-capstone-bucket/user_img/user_img/gunung/4_gunung.jpg\n",
      "https://storage.googleapis.com/planc-product-capstone-bucket/user_img/user_img/gunung/8_gunung.jpg\n"
     ]
    }
   ],
   "source": [
    "new_image_url = 'https://storage.googleapis.com/planc-product-capstone-bucket/user_img/user_img/gunung/8_gunung(1).jpg'\n",
    "recommended_images = recommend_similar_images(image_features, new_image_url, top_n=10)\n",
    "for i in range(10):\n",
    "    print(recommended_images['content_url'].iloc[i])\n"
   ]
  },
  {
   "cell_type": "code",
   "execution_count": 21,
   "id": "d8a3861d",
   "metadata": {},
   "outputs": [
    {
     "name": "stdout",
     "output_type": "stream",
     "text": [
      "https://storage.googleapis.com/planc-product-capstone-bucket/user_img/user_img/gunung/1_gunung.jpg\n"
     ]
    }
   ],
   "source": [
    "print(recommended_images['content_url'].iloc[0])"
   ]
  },
  {
   "cell_type": "code",
   "execution_count": 23,
   "id": "b92c231d",
   "metadata": {},
   "outputs": [],
   "source": [
    "#pd.options.display.max_rows = 4000"
   ]
  },
  {
   "cell_type": "code",
   "execution_count": 24,
   "id": "4498402f",
   "metadata": {},
   "outputs": [],
   "source": [
    "import pickle\n",
    "\n",
    "with open('recommended_images.pkl', 'wb') as file:\n",
    "    pickle.dump(recommended_images, file)"
   ]
  },
  {
   "cell_type": "code",
   "execution_count": 25,
   "id": "7a495738",
   "metadata": {},
   "outputs": [
    {
     "name": "stdout",
     "output_type": "stream",
     "text": [
      "   user_id                                      image_feature  \\\n",
      "0        1  [8.4541504e-08, 1.0063518e-07, 0.999793, 8.777...   \n",
      "21       9  [1.274176e-07, 1.1266337e-08, 0.9999641, 5.162...   \n",
      "53      24  [1.7160852e-06, 0.0008915777, 0.9982926, 3.889...   \n",
      "47      21  [4.8010946e-07, 8.197717e-08, 0.9984419, 9.458...   \n",
      "2        2  [4.5139099e-13, 1.2367175e-14, 0.9980532, 1.13...   \n",
      "13       4  [0.0004325505, 9.722459e-08, 0.9929563, 1.2140...   \n",
      "57      26  [5.9154092e-05, 0.0061352346, 0.98627925, 1.66...   \n",
      "34      15  [9.854604e-07, 2.3914904e-08, 0.98814917, 3.50...   \n",
      "9        4  [8.576117e-05, 7.21135e-06, 0.9802214, 3.99726...   \n",
      "18       8  [0.0035540876, 8.6683076e-07, 0.97342175, 4.26...   \n",
      "\n",
      "                                          content_url  \n",
      "0   https://storage.googleapis.com/planc-product-c...  \n",
      "21  https://storage.googleapis.com/planc-product-c...  \n",
      "53  https://storage.googleapis.com/planc-product-c...  \n",
      "47  https://storage.googleapis.com/planc-product-c...  \n",
      "2   https://storage.googleapis.com/planc-product-c...  \n",
      "13  https://storage.googleapis.com/planc-product-c...  \n",
      "57  https://storage.googleapis.com/planc-product-c...  \n",
      "34  https://storage.googleapis.com/planc-product-c...  \n",
      "9   https://storage.googleapis.com/planc-product-c...  \n",
      "18  https://storage.googleapis.com/planc-product-c...  \n"
     ]
    }
   ],
   "source": [
    "with open('recommended_images.pkl', 'rb') as file:\n",
    "    loaded_images = pickle.load(file)\n",
    "\n",
    "print(loaded_images)"
   ]
  }
 ],
 "metadata": {
  "kernelspec": {
   "display_name": "Python 3 (ipykernel)",
   "language": "python",
   "name": "python3"
  },
  "language_info": {
   "codemirror_mode": {
    "name": "ipython",
    "version": 3
   },
   "file_extension": ".py",
   "mimetype": "text/x-python",
   "name": "python",
   "nbconvert_exporter": "python",
   "pygments_lexer": "ipython3",
   "version": "3.9.7"
  }
 },
 "nbformat": 4,
 "nbformat_minor": 5
}
