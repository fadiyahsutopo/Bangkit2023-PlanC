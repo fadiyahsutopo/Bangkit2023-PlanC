{
  "cells": [
    {
      "cell_type": "markdown",
      "metadata": {
        "id": "view-in-github",
        "colab_type": "text"
      },
      "source": [
        "<a href=\"https://colab.research.google.com/github/fadiyahsutopo/Bangkit2023-PlanC/blob/machine-learning/keras_recommender.ipynb\" target=\"_parent\"><img src=\"https://colab.research.google.com/assets/colab-badge.svg\" alt=\"Open In Colab\"/></a>"
      ]
    },
    {
      "cell_type": "code",
      "execution_count": null,
      "id": "a4ea0376",
      "metadata": {
        "id": "a4ea0376"
      },
      "outputs": [],
      "source": [
        "from typing import Dict, Text\n",
        "\n",
        "import pandas as pd\n",
        "import numpy as np\n",
        "import tensorflow as tf\n",
        "\n",
        "from tensorflow.keras.layers import Input, Embedding, Flatten, Dropout, Dense, Concatenate\n",
        "from tensorflow.keras.models import Model"
      ]
    },
    {
      "cell_type": "code",
      "execution_count": null,
      "id": "6ad6a8fb",
      "metadata": {
        "id": "6ad6a8fb",
        "outputId": "23b0ba5f-39c9-4609-ed46-02433316517d"
      },
      "outputs": [
        {
          "data": {
            "text/html": [
              "<div>\n",
              "<style scoped>\n",
              "    .dataframe tbody tr th:only-of-type {\n",
              "        vertical-align: middle;\n",
              "    }\n",
              "\n",
              "    .dataframe tbody tr th {\n",
              "        vertical-align: top;\n",
              "    }\n",
              "\n",
              "    .dataframe thead th {\n",
              "        text-align: right;\n",
              "    }\n",
              "</style>\n",
              "<table border=\"1\" class=\"dataframe\">\n",
              "  <thead>\n",
              "    <tr style=\"text-align: right;\">\n",
              "      <th></th>\n",
              "      <th>place_id</th>\n",
              "      <th>city</th>\n",
              "      <th>place_name</th>\n",
              "      <th>types</th>\n",
              "      <th>rating</th>\n",
              "      <th>user_ratings_total</th>\n",
              "      <th>address</th>\n",
              "      <th>photos</th>\n",
              "      <th>lat</th>\n",
              "      <th>lng</th>\n",
              "      <th>coordinate</th>\n",
              "      <th>phone_number</th>\n",
              "      <th>description</th>\n",
              "    </tr>\n",
              "  </thead>\n",
              "  <tbody>\n",
              "    <tr>\n",
              "      <th>0</th>\n",
              "      <td>1</td>\n",
              "      <td>Bali</td>\n",
              "      <td>Air Terjun Kanto Lampo</td>\n",
              "      <td>AirTerjun</td>\n",
              "      <td>4.5</td>\n",
              "      <td>1873</td>\n",
              "      <td>Jl. Kaliasem, Beng, Kec. Gianyar, Kabupaten Gi...</td>\n",
              "      <td>NaN</td>\n",
              "      <td>-8.532147</td>\n",
              "      <td>115.331224</td>\n",
              "      <td>{'lat':-8.5321467, 'lng':115.3312237}</td>\n",
              "      <td>8.155883e+10</td>\n",
              "      <td>Air Terjun Kanto Lampo merupakan salah satu ob...</td>\n",
              "    </tr>\n",
              "    <tr>\n",
              "      <th>1</th>\n",
              "      <td>2</td>\n",
              "      <td>Bali</td>\n",
              "      <td>Air Terjun Sekumpul</td>\n",
              "      <td>AirTerjun</td>\n",
              "      <td>3.9</td>\n",
              "      <td>363</td>\n",
              "      <td>Bebetin, Kec. Sawan, Kabupaten Buleleng, Bali</td>\n",
              "      <td>NaN</td>\n",
              "      <td>-8.177531</td>\n",
              "      <td>115.182582</td>\n",
              "      <td>{'lat':-8.1775308, 'lng':115.1825825}</td>\n",
              "      <td>NaN</td>\n",
              "      <td>Air Terjun Sekumpul merupakan salah satu air t...</td>\n",
              "    </tr>\n",
              "    <tr>\n",
              "      <th>2</th>\n",
              "      <td>3</td>\n",
              "      <td>Bali</td>\n",
              "      <td>Air Terjun Tukad Cepung</td>\n",
              "      <td>AirTerjun</td>\n",
              "      <td>4.6</td>\n",
              "      <td>1830</td>\n",
              "      <td>Central parkir waterfall tukad cepung, Jl. Tem...</td>\n",
              "      <td>NaN</td>\n",
              "      <td>-8.441017</td>\n",
              "      <td>115.386808</td>\n",
              "      <td>{'lat':-8.4410173, 'lng':115.3868079}</td>\n",
              "      <td>8.786322e+10</td>\n",
              "      <td>Air Terjun Tukad Cepung merupakan salah satu o...</td>\n",
              "    </tr>\n",
              "    <tr>\n",
              "      <th>3</th>\n",
              "      <td>4</td>\n",
              "      <td>Bali</td>\n",
              "      <td>Air Terjun Melanting</td>\n",
              "      <td>AirTerjun</td>\n",
              "      <td>4.6</td>\n",
              "      <td>288</td>\n",
              "      <td>Jl. Air Terjun Melanting No.Desa, Gobleg, Kec....</td>\n",
              "      <td>NaN</td>\n",
              "      <td>-8.260884</td>\n",
              "      <td>115.062733</td>\n",
              "      <td>{'lat':-8.2608842, 'lng':115.0627329}</td>\n",
              "      <td>NaN</td>\n",
              "      <td>Air Terjun Melanting merupakan air terjun yang...</td>\n",
              "    </tr>\n",
              "    <tr>\n",
              "      <th>4</th>\n",
              "      <td>5</td>\n",
              "      <td>Jawa Barat</td>\n",
              "      <td>Air Terjun Cikanteh</td>\n",
              "      <td>AirTerjun</td>\n",
              "      <td>4.7</td>\n",
              "      <td>828</td>\n",
              "      <td>RG72+XMH, Ciwaru, Kec. Ciemas, Kabupaten Sukab...</td>\n",
              "      <td>NaN</td>\n",
              "      <td>-7.185060</td>\n",
              "      <td>106.501745</td>\n",
              "      <td>{'lat':-7.1850597, 'lng':106.5017453}</td>\n",
              "      <td>NaN</td>\n",
              "      <td>Air Terjun Cikanteh merupakan air terjun yang ...</td>\n",
              "    </tr>\n",
              "  </tbody>\n",
              "</table>\n",
              "</div>"
            ],
            "text/plain": [
              "   place_id        city               place_name      types  rating  \\\n",
              "0         1        Bali   Air Terjun Kanto Lampo  AirTerjun     4.5   \n",
              "1         2        Bali      Air Terjun Sekumpul  AirTerjun     3.9   \n",
              "2         3        Bali  Air Terjun Tukad Cepung  AirTerjun     4.6   \n",
              "3         4        Bali     Air Terjun Melanting  AirTerjun     4.6   \n",
              "4         5  Jawa Barat      Air Terjun Cikanteh  AirTerjun     4.7   \n",
              "\n",
              "   user_ratings_total                                            address  \\\n",
              "0                1873  Jl. Kaliasem, Beng, Kec. Gianyar, Kabupaten Gi...   \n",
              "1                 363      Bebetin, Kec. Sawan, Kabupaten Buleleng, Bali   \n",
              "2                1830  Central parkir waterfall tukad cepung, Jl. Tem...   \n",
              "3                 288  Jl. Air Terjun Melanting No.Desa, Gobleg, Kec....   \n",
              "4                 828  RG72+XMH, Ciwaru, Kec. Ciemas, Kabupaten Sukab...   \n",
              "\n",
              "  photos       lat         lng                             coordinate  \\\n",
              "0    NaN -8.532147  115.331224  {'lat':-8.5321467, 'lng':115.3312237}   \n",
              "1    NaN -8.177531  115.182582  {'lat':-8.1775308, 'lng':115.1825825}   \n",
              "2    NaN -8.441017  115.386808  {'lat':-8.4410173, 'lng':115.3868079}   \n",
              "3    NaN -8.260884  115.062733  {'lat':-8.2608842, 'lng':115.0627329}   \n",
              "4    NaN -7.185060  106.501745  {'lat':-7.1850597, 'lng':106.5017453}   \n",
              "\n",
              "   phone_number                                        description  \n",
              "0  8.155883e+10  Air Terjun Kanto Lampo merupakan salah satu ob...  \n",
              "1           NaN  Air Terjun Sekumpul merupakan salah satu air t...  \n",
              "2  8.786322e+10  Air Terjun Tukad Cepung merupakan salah satu o...  \n",
              "3           NaN  Air Terjun Melanting merupakan air terjun yang...  \n",
              "4           NaN  Air Terjun Cikanteh merupakan air terjun yang ...  "
            ]
          },
          "execution_count": 29,
          "metadata": {},
          "output_type": "execute_result"
        }
      ],
      "source": [
        "destination = pd.read_csv('planc_destinations.csv')\n",
        "\n",
        "destination.head()"
      ]
    },
    {
      "cell_type": "code",
      "execution_count": null,
      "id": "e35bbfcd",
      "metadata": {
        "id": "e35bbfcd",
        "outputId": "57f11f1f-a274-4a29-938e-7beb4e68d19f"
      },
      "outputs": [
        {
          "name": "stdout",
          "output_type": "stream",
          "text": [
            "<class 'pandas.core.frame.DataFrame'>\n",
            "RangeIndex: 287 entries, 0 to 286\n",
            "Data columns (total 13 columns):\n",
            " #   Column              Non-Null Count  Dtype  \n",
            "---  ------              --------------  -----  \n",
            " 0   place_id            287 non-null    int64  \n",
            " 1   city                287 non-null    object \n",
            " 2   place_name          287 non-null    object \n",
            " 3   types               287 non-null    object \n",
            " 4   rating              287 non-null    float64\n",
            " 5   user_ratings_total  287 non-null    int64  \n",
            " 6   address             287 non-null    object \n",
            " 7   photos              70 non-null     object \n",
            " 8   lat                 287 non-null    float64\n",
            " 9   lng                 287 non-null    float64\n",
            " 10  coordinate          287 non-null    object \n",
            " 11  phone_number        17 non-null     float64\n",
            " 12  description         19 non-null     object \n",
            "dtypes: float64(4), int64(2), object(7)\n",
            "memory usage: 29.3+ KB\n"
          ]
        }
      ],
      "source": [
        "destination.info()"
      ]
    },
    {
      "cell_type": "code",
      "execution_count": null,
      "id": "292a23f9",
      "metadata": {
        "id": "292a23f9",
        "outputId": "8abb4ea1-becb-4eb0-8abd-0ffc8696d293"
      },
      "outputs": [
        {
          "data": {
            "text/html": [
              "<div>\n",
              "<style scoped>\n",
              "    .dataframe tbody tr th:only-of-type {\n",
              "        vertical-align: middle;\n",
              "    }\n",
              "\n",
              "    .dataframe tbody tr th {\n",
              "        vertical-align: top;\n",
              "    }\n",
              "\n",
              "    .dataframe thead th {\n",
              "        text-align: right;\n",
              "    }\n",
              "</style>\n",
              "<table border=\"1\" class=\"dataframe\">\n",
              "  <thead>\n",
              "    <tr style=\"text-align: right;\">\n",
              "      <th></th>\n",
              "      <th>user_id</th>\n",
              "      <th>place_id</th>\n",
              "      <th>rating</th>\n",
              "    </tr>\n",
              "  </thead>\n",
              "  <tbody>\n",
              "    <tr>\n",
              "      <th>0</th>\n",
              "      <td>1</td>\n",
              "      <td>32</td>\n",
              "      <td>5.0</td>\n",
              "    </tr>\n",
              "    <tr>\n",
              "      <th>1</th>\n",
              "      <td>1</td>\n",
              "      <td>33</td>\n",
              "      <td>4.8</td>\n",
              "    </tr>\n",
              "    <tr>\n",
              "      <th>2</th>\n",
              "      <td>2</td>\n",
              "      <td>29</td>\n",
              "      <td>4.6</td>\n",
              "    </tr>\n",
              "    <tr>\n",
              "      <th>3</th>\n",
              "      <td>2</td>\n",
              "      <td>15</td>\n",
              "      <td>4.8</td>\n",
              "    </tr>\n",
              "    <tr>\n",
              "      <th>4</th>\n",
              "      <td>3</td>\n",
              "      <td>16</td>\n",
              "      <td>4.7</td>\n",
              "    </tr>\n",
              "  </tbody>\n",
              "</table>\n",
              "</div>"
            ],
            "text/plain": [
              "   user_id  place_id  rating\n",
              "0        1        32     5.0\n",
              "1        1        33     4.8\n",
              "2        2        29     4.6\n",
              "3        2        15     4.8\n",
              "4        3        16     4.7"
            ]
          },
          "execution_count": 31,
          "metadata": {},
          "output_type": "execute_result"
        }
      ],
      "source": [
        "rating = pd.read_csv('user_rating.csv')\n",
        "\n",
        "rating.head()"
      ]
    },
    {
      "cell_type": "code",
      "execution_count": null,
      "id": "3a0a5773",
      "metadata": {
        "id": "3a0a5773",
        "outputId": "6a957f66-be66-4963-abba-fe3e94b74011",
        "scrolled": true
      },
      "outputs": [
        {
          "name": "stdout",
          "output_type": "stream",
          "text": [
            "<class 'pandas.core.frame.DataFrame'>\n",
            "RangeIndex: 400 entries, 0 to 399\n",
            "Data columns (total 3 columns):\n",
            " #   Column    Non-Null Count  Dtype  \n",
            "---  ------    --------------  -----  \n",
            " 0   user_id   400 non-null    int64  \n",
            " 1   place_id  400 non-null    int64  \n",
            " 2   rating    400 non-null    float64\n",
            "dtypes: float64(1), int64(2)\n",
            "memory usage: 9.5 KB\n"
          ]
        }
      ],
      "source": [
        "rating.info()"
      ]
    },
    {
      "cell_type": "code",
      "execution_count": null,
      "id": "b057569c",
      "metadata": {
        "id": "b057569c"
      },
      "outputs": [],
      "source": [
        "from sklearn.model_selection import train_test_split\n",
        "train, test = train_test_split(rating, test_size=0.2, random_state=42)"
      ]
    },
    {
      "cell_type": "code",
      "execution_count": null,
      "id": "6ab97ba7",
      "metadata": {
        "id": "6ab97ba7",
        "outputId": "f237ad59-30dd-4ac1-ba08-e370815e3625"
      },
      "outputs": [
        {
          "name": "stdout",
          "output_type": "stream",
          "text": [
            "200\n",
            "287\n"
          ]
        }
      ],
      "source": [
        "# get unique users and destinations\n",
        "\n",
        "n_users = len(rating.user_id.unique())\n",
        "n_destination = len(rating.place_id.unique())\n",
        "\n",
        "print(n_users)\n",
        "print(n_destination)"
      ]
    },
    {
      "cell_type": "code",
      "execution_count": null,
      "id": "83fb1fb9",
      "metadata": {
        "id": "83fb1fb9"
      },
      "outputs": [],
      "source": [
        "# initialize destination input layer\n",
        "destination_input = Input(shape=[1], name=\"input_destination\")\n",
        "# create embedding for destination\n",
        "destination_embed = Embedding(n_destination+1, 5, name=\"embedding_destination\")(destination_input)\n",
        "destination_vec = Flatten(name=\"destination_flatten\")(destination_embed)\n",
        "destination_vec = Dropout(0.2)(destination_vec)\n",
        "\n",
        "# initialize user input layer\n",
        "user_input = Input(shape=[1], name=\"input_user\")\n",
        "# create embedding for user\n",
        "user_embed = Embedding(n_users+1, output_dim=5, name=\"embedding_user\")(user_input)\n",
        "user_vec = Flatten(name=\"user_flatten\")(user_embed)\n",
        "user_vec = Dropout(0.2)(user_vec)"
      ]
    },
    {
      "cell_type": "code",
      "execution_count": null,
      "id": "5cfa55b1",
      "metadata": {
        "id": "5cfa55b1"
      },
      "outputs": [],
      "source": [
        "# Concatenate user and destination vectors\n",
        "concat_layer = Concatenate()([destination_vec, user_vec])\n",
        "\n",
        "# # Add dense layers\n",
        "dense1 = Dense(256, activation='relu')(concat_layer)\n",
        "# # dense1 = Dropout(0.2)(dense1)\n",
        "dense2 = Dense(128, activation='relu')(dense1)\n",
        "# dense2 = Dropout(0.2)(dense2)\n",
        "dense3 = Dense(64, activation='relu')(dense2)\n",
        "\n",
        "output = Dense(1)(dense3)"
      ]
    },
    {
      "cell_type": "code",
      "execution_count": null,
      "id": "5bd49a40",
      "metadata": {
        "id": "5bd49a40"
      },
      "outputs": [],
      "source": [
        "adam_optimizer = tf.keras.optimizers.Adam(learning_rate = 0.001)\n",
        "model = Model([user_input, destination_input], output)\n",
        "model.compile(optimizer=adam_optimizer, loss=['mse'], metrics=['mean_squared_error'])"
      ]
    },
    {
      "cell_type": "code",
      "execution_count": null,
      "id": "babd1f5e",
      "metadata": {
        "id": "babd1f5e",
        "outputId": "ead45a59-e769-4dba-e006-9eddf37cd563"
      },
      "outputs": [
        {
          "name": "stdout",
          "output_type": "stream",
          "text": [
            "Model: \"model_1\"\n",
            "__________________________________________________________________________________________________\n",
            " Layer (type)                   Output Shape         Param #     Connected to                     \n",
            "==================================================================================================\n",
            " input_destination (InputLayer)  [(None, 1)]         0           []                               \n",
            "                                                                                                  \n",
            " input_user (InputLayer)        [(None, 1)]          0           []                               \n",
            "                                                                                                  \n",
            " embedding_destination (Embeddi  (None, 1, 5)        1440        ['input_destination[0][0]']      \n",
            " ng)                                                                                              \n",
            "                                                                                                  \n",
            " embedding_user (Embedding)     (None, 1, 5)         1005        ['input_user[0][0]']             \n",
            "                                                                                                  \n",
            " destination_flatten (Flatten)  (None, 5)            0           ['embedding_destination[0][0]']  \n",
            "                                                                                                  \n",
            " user_flatten (Flatten)         (None, 5)            0           ['embedding_user[0][0]']         \n",
            "                                                                                                  \n",
            " dropout_2 (Dropout)            (None, 5)            0           ['destination_flatten[0][0]']    \n",
            "                                                                                                  \n",
            " dropout_3 (Dropout)            (None, 5)            0           ['user_flatten[0][0]']           \n",
            "                                                                                                  \n",
            " concatenate_1 (Concatenate)    (None, 10)           0           ['dropout_2[0][0]',              \n",
            "                                                                  'dropout_3[0][0]']              \n",
            "                                                                                                  \n",
            " dense_4 (Dense)                (None, 256)          2816        ['concatenate_1[0][0]']          \n",
            "                                                                                                  \n",
            " dense_5 (Dense)                (None, 128)          32896       ['dense_4[0][0]']                \n",
            "                                                                                                  \n",
            " dense_6 (Dense)                (None, 64)           8256        ['dense_5[0][0]']                \n",
            "                                                                                                  \n",
            " dense_7 (Dense)                (None, 1)            65          ['dense_6[0][0]']                \n",
            "                                                                                                  \n",
            "==================================================================================================\n",
            "Total params: 46,478\n",
            "Trainable params: 46,478\n",
            "Non-trainable params: 0\n",
            "__________________________________________________________________________________________________\n"
          ]
        }
      ],
      "source": [
        "model.summary()"
      ]
    },
    {
      "cell_type": "code",
      "execution_count": null,
      "id": "d78d88f2",
      "metadata": {
        "id": "d78d88f2",
        "outputId": "ba5d73ce-7bce-494a-b973-12cf01a3d5da"
      },
      "outputs": [
        {
          "name": "stdout",
          "output_type": "stream",
          "text": [
            "Epoch 1/50\n",
            "3/3 [==============================] - 2s 151ms/step - loss: 21.7173 - mean_squared_error: 21.7173 - val_loss: 21.1975 - val_mean_squared_error: 21.1975\n",
            "Epoch 2/50\n",
            "3/3 [==============================] - 0s 35ms/step - loss: 21.0745 - mean_squared_error: 21.0745 - val_loss: 20.4146 - val_mean_squared_error: 20.4146\n",
            "Epoch 3/50\n",
            "3/3 [==============================] - 0s 34ms/step - loss: 20.1684 - mean_squared_error: 20.1684 - val_loss: 19.2879 - val_mean_squared_error: 19.2879\n",
            "Epoch 4/50\n",
            "3/3 [==============================] - 0s 30ms/step - loss: 18.9089 - mean_squared_error: 18.9089 - val_loss: 17.7127 - val_mean_squared_error: 17.7127\n",
            "Epoch 5/50\n",
            "3/3 [==============================] - 0s 32ms/step - loss: 17.1484 - mean_squared_error: 17.1484 - val_loss: 15.5619 - val_mean_squared_error: 15.5619\n",
            "Epoch 6/50\n",
            "3/3 [==============================] - 0s 38ms/step - loss: 14.7627 - mean_squared_error: 14.7627 - val_loss: 12.7410 - val_mean_squared_error: 12.7410\n",
            "Epoch 7/50\n",
            "3/3 [==============================] - 0s 46ms/step - loss: 11.7312 - mean_squared_error: 11.7312 - val_loss: 9.2563 - val_mean_squared_error: 9.2563\n",
            "Epoch 8/50\n",
            "3/3 [==============================] - 0s 31ms/step - loss: 8.0273 - mean_squared_error: 8.0273 - val_loss: 5.3778 - val_mean_squared_error: 5.3778\n",
            "Epoch 9/50\n",
            "3/3 [==============================] - 0s 31ms/step - loss: 4.1382 - mean_squared_error: 4.1382 - val_loss: 1.8781 - val_mean_squared_error: 1.8781\n",
            "Epoch 10/50\n",
            "3/3 [==============================] - 0s 33ms/step - loss: 1.0907 - mean_squared_error: 1.0907 - val_loss: 0.1567 - val_mean_squared_error: 0.1567\n",
            "Epoch 11/50\n",
            "3/3 [==============================] - 0s 40ms/step - loss: 0.3867 - mean_squared_error: 0.3867 - val_loss: 0.9375 - val_mean_squared_error: 0.9375\n",
            "Epoch 12/50\n",
            "3/3 [==============================] - 0s 32ms/step - loss: 1.6314 - mean_squared_error: 1.6314 - val_loss: 1.4296 - val_mean_squared_error: 1.4296\n",
            "Epoch 13/50\n",
            "3/3 [==============================] - 0s 30ms/step - loss: 1.6618 - mean_squared_error: 1.6618 - val_loss: 0.6436 - val_mean_squared_error: 0.6436\n",
            "Epoch 14/50\n",
            "3/3 [==============================] - 0s 30ms/step - loss: 0.6299 - mean_squared_error: 0.6299 - val_loss: 0.1166 - val_mean_squared_error: 0.1166\n",
            "Epoch 15/50\n",
            "3/3 [==============================] - 0s 36ms/step - loss: 0.1338 - mean_squared_error: 0.1338 - val_loss: 0.2269 - val_mean_squared_error: 0.2269\n",
            "Epoch 16/50\n",
            "3/3 [==============================] - 0s 33ms/step - loss: 0.2393 - mean_squared_error: 0.2393 - val_loss: 0.4802 - val_mean_squared_error: 0.4802\n",
            "Epoch 17/50\n",
            "3/3 [==============================] - 0s 29ms/step - loss: 0.4226 - mean_squared_error: 0.4226 - val_loss: 0.5291 - val_mean_squared_error: 0.5291\n",
            "Epoch 18/50\n",
            "3/3 [==============================] - 0s 36ms/step - loss: 0.4148 - mean_squared_error: 0.4148 - val_loss: 0.3687 - val_mean_squared_error: 0.3687\n",
            "Epoch 19/50\n",
            "3/3 [==============================] - 0s 33ms/step - loss: 0.2525 - mean_squared_error: 0.2525 - val_loss: 0.1680 - val_mean_squared_error: 0.1680\n",
            "Epoch 20/50\n",
            "3/3 [==============================] - 0s 31ms/step - loss: 0.1018 - mean_squared_error: 0.1018 - val_loss: 0.0770 - val_mean_squared_error: 0.0770\n",
            "Epoch 21/50\n",
            "3/3 [==============================] - 0s 35ms/step - loss: 0.0738 - mean_squared_error: 0.0738 - val_loss: 0.0974 - val_mean_squared_error: 0.0974\n",
            "Epoch 22/50\n",
            "3/3 [==============================] - 0s 53ms/step - loss: 0.1208 - mean_squared_error: 0.1208 - val_loss: 0.1197 - val_mean_squared_error: 0.1197\n",
            "Epoch 23/50\n",
            "3/3 [==============================] - 0s 43ms/step - loss: 0.1410 - mean_squared_error: 0.1410 - val_loss: 0.0942 - val_mean_squared_error: 0.0942\n",
            "Epoch 24/50\n",
            "3/3 [==============================] - 0s 35ms/step - loss: 0.0881 - mean_squared_error: 0.0881 - val_loss: 0.0699 - val_mean_squared_error: 0.0699\n",
            "Epoch 25/50\n",
            "3/3 [==============================] - 0s 35ms/step - loss: 0.0616 - mean_squared_error: 0.0616 - val_loss: 0.0788 - val_mean_squared_error: 0.0788\n",
            "Epoch 26/50\n",
            "3/3 [==============================] - 0s 38ms/step - loss: 0.0574 - mean_squared_error: 0.0574 - val_loss: 0.0985 - val_mean_squared_error: 0.0985\n",
            "Epoch 27/50\n",
            "3/3 [==============================] - 0s 40ms/step - loss: 0.0675 - mean_squared_error: 0.0675 - val_loss: 0.1021 - val_mean_squared_error: 0.1021\n",
            "Epoch 28/50\n",
            "3/3 [==============================] - 0s 46ms/step - loss: 0.0663 - mean_squared_error: 0.0663 - val_loss: 0.0865 - val_mean_squared_error: 0.0865\n",
            "Epoch 29/50\n",
            "3/3 [==============================] - 0s 34ms/step - loss: 0.0559 - mean_squared_error: 0.0559 - val_loss: 0.0708 - val_mean_squared_error: 0.0708\n",
            "Epoch 30/50\n",
            "3/3 [==============================] - 0s 40ms/step - loss: 0.0492 - mean_squared_error: 0.0492 - val_loss: 0.0651 - val_mean_squared_error: 0.0651\n",
            "Epoch 31/50\n",
            "3/3 [==============================] - 0s 37ms/step - loss: 0.0497 - mean_squared_error: 0.0497 - val_loss: 0.0650 - val_mean_squared_error: 0.0650\n",
            "Epoch 32/50\n",
            "3/3 [==============================] - 0s 35ms/step - loss: 0.0500 - mean_squared_error: 0.0500 - val_loss: 0.0645 - val_mean_squared_error: 0.0645\n",
            "Epoch 33/50\n",
            "3/3 [==============================] - 0s 36ms/step - loss: 0.0494 - mean_squared_error: 0.0494 - val_loss: 0.0645 - val_mean_squared_error: 0.0645\n",
            "Epoch 34/50\n",
            "3/3 [==============================] - 0s 39ms/step - loss: 0.0453 - mean_squared_error: 0.0453 - val_loss: 0.0674 - val_mean_squared_error: 0.0674\n",
            "Epoch 35/50\n",
            "3/3 [==============================] - 0s 34ms/step - loss: 0.0441 - mean_squared_error: 0.0441 - val_loss: 0.0704 - val_mean_squared_error: 0.0704\n",
            "Epoch 36/50\n",
            "3/3 [==============================] - 0s 30ms/step - loss: 0.0439 - mean_squared_error: 0.0439 - val_loss: 0.0708 - val_mean_squared_error: 0.0708\n",
            "Epoch 37/50\n",
            "3/3 [==============================] - 0s 32ms/step - loss: 0.0411 - mean_squared_error: 0.0411 - val_loss: 0.0682 - val_mean_squared_error: 0.0682\n",
            "Epoch 38/50\n",
            "3/3 [==============================] - 0s 34ms/step - loss: 0.0399 - mean_squared_error: 0.0399 - val_loss: 0.0657 - val_mean_squared_error: 0.0657\n",
            "Epoch 39/50\n",
            "3/3 [==============================] - 0s 37ms/step - loss: 0.0406 - mean_squared_error: 0.0406 - val_loss: 0.0646 - val_mean_squared_error: 0.0646\n",
            "Epoch 40/50\n",
            "3/3 [==============================] - 0s 36ms/step - loss: 0.0405 - mean_squared_error: 0.0405 - val_loss: 0.0646 - val_mean_squared_error: 0.0646\n",
            "Epoch 41/50\n",
            "3/3 [==============================] - 0s 31ms/step - loss: 0.0407 - mean_squared_error: 0.0407 - val_loss: 0.0650 - val_mean_squared_error: 0.0650\n",
            "Epoch 42/50\n",
            "3/3 [==============================] - 0s 31ms/step - loss: 0.0375 - mean_squared_error: 0.0375 - val_loss: 0.0663 - val_mean_squared_error: 0.0663\n",
            "Epoch 43/50\n",
            "3/3 [==============================] - 0s 29ms/step - loss: 0.0345 - mean_squared_error: 0.0345 - val_loss: 0.0682 - val_mean_squared_error: 0.0682\n",
            "Epoch 44/50\n",
            "3/3 [==============================] - 0s 32ms/step - loss: 0.0379 - mean_squared_error: 0.0379 - val_loss: 0.0695 - val_mean_squared_error: 0.0695\n",
            "Epoch 45/50\n",
            "3/3 [==============================] - 0s 35ms/step - loss: 0.0383 - mean_squared_error: 0.0383 - val_loss: 0.0696 - val_mean_squared_error: 0.0696\n",
            "Epoch 46/50\n",
            "3/3 [==============================] - 0s 31ms/step - loss: 0.0379 - mean_squared_error: 0.0379 - val_loss: 0.0681 - val_mean_squared_error: 0.0681\n",
            "Epoch 47/50\n",
            "3/3 [==============================] - 0s 31ms/step - loss: 0.0391 - mean_squared_error: 0.0391 - val_loss: 0.0672 - val_mean_squared_error: 0.0672\n",
            "Epoch 48/50\n",
            "3/3 [==============================] - 0s 35ms/step - loss: 0.0375 - mean_squared_error: 0.0375 - val_loss: 0.0669 - val_mean_squared_error: 0.0669\n",
            "Epoch 49/50\n",
            "3/3 [==============================] - 0s 30ms/step - loss: 0.0360 - mean_squared_error: 0.0360 - val_loss: 0.0676 - val_mean_squared_error: 0.0676\n",
            "Epoch 50/50\n",
            "3/3 [==============================] - 0s 29ms/step - loss: 0.0371 - mean_squared_error: 0.0371 - val_loss: 0.0688 - val_mean_squared_error: 0.0688\n"
          ]
        }
      ],
      "source": [
        "# history = model.fit([train.User_Id, train.Place_Id], train.Place_Ratings, epochs=20, verbose=1)\n",
        "\n",
        "# history = model.fit([train.user_id, train.place_id], train.rating, epochs=20, verbose=1)\n",
        "history = model.fit([train['user_id'], train['place_id']], train['rating'],\n",
        "                    batch_size = 128,\n",
        "                    epochs = 50,\n",
        "                    verbose = 1,\n",
        "                    validation_data=([test.user_id, test.place_id], test.rating))"
      ]
    },
    {
      "cell_type": "code",
      "execution_count": null,
      "id": "8faeff6e",
      "metadata": {
        "id": "8faeff6e",
        "outputId": "bdcbd9b9-260f-455b-b972-6d5758fb8135"
      },
      "outputs": [
        {
          "data": {
            "text/plain": [
              "<matplotlib.legend.Legend at 0x15409760e50>"
            ]
          },
          "execution_count": 40,
          "metadata": {},
          "output_type": "execute_result"
        },
        {
          "data": {
            "image/png": "[encoded data removed]",
            "text/plain": [
              "<Figure size 640x480 with 1 Axes>"
            ]
          },
          "metadata": {},
          "output_type": "display_data"
        }
      ],
      "source": [
        "import matplotlib.pyplot as plt\n",
        "\n",
        "plt.plot(history.history['loss'])\n",
        "\n",
        "plt.xlabel(\"Num of Epochs\")\n",
        "plt.ylabel(\"Training and Validation Loss\")\n",
        "\n",
        "plt.plot(history.history['loss'], label='training loss')\n",
        "plt.plot(history.history['val_loss'], label='validation loss')\n",
        "\n",
        "plt.legend()"
      ]
    },
    {
      "cell_type": "code",
      "execution_count": null,
      "id": "e2075155",
      "metadata": {
        "id": "e2075155",
        "outputId": "57c1b1d0-5c66-4436-ed01-a421bdbaf2e9"
      },
      "outputs": [
        {
          "name": "stdout",
          "output_type": "stream",
          "text": [
            "3/3 [==============================] - 0s 6ms/step - loss: 0.0688 - mean_squared_error: 0.0688\n"
          ]
        },
        {
          "data": {
            "text/plain": [
              "[0.06876039505004883, 0.06876039505004883]"
            ]
          },
          "execution_count": 41,
          "metadata": {},
          "output_type": "execute_result"
        }
      ],
      "source": [
        "model.evaluate([test.user_id, test.place_id], test.rating)"
      ]
    },
    {
      "cell_type": "markdown",
      "id": "9b83c927",
      "metadata": {
        "id": "9b83c927"
      },
      "source": [
        "# Making recommendation"
      ]
    },
    {
      "cell_type": "code",
      "execution_count": null,
      "id": "372a1719",
      "metadata": {
        "id": "372a1719",
        "scrolled": true
      },
      "outputs": [],
      "source": [
        "destination_array = np.array(list(set(rating.place_id)))\n",
        "\n",
        "\n",
        "# set user id\n",
        "user_id = 12\n",
        "user = np.array([user_id for i in range(len(destination_array))])"
      ]
    },
    {
      "cell_type": "code",
      "execution_count": null,
      "id": "59b17a56",
      "metadata": {
        "id": "59b17a56",
        "outputId": "05b2d5a8-2e4a-4d6e-a2e3-239c6c285281"
      },
      "outputs": [
        {
          "name": "stdout",
          "output_type": "stream",
          "text": [
            "9/9 [==============================] - 0s 3ms/step\n",
            "[202 250  35  44   2]\n",
            "[4.8493776 4.819098  4.785809  4.7743063 4.763389 ]\n"
          ]
        }
      ],
      "source": [
        "predictions = model.predict([user, destination_array])\n",
        "predictions = np.array([a[0] for a in predictions])\n",
        "recommended_place_id = (-predictions).argsort()[:5]\n",
        "\n",
        "print(recommended_place_id)\n",
        "print(predictions[recommended_place_id])"
      ]
    },
    {
      "cell_type": "code",
      "execution_count": null,
      "id": "454c51f1",
      "metadata": {
        "id": "454c51f1",
        "outputId": "74fa81b4-9f3d-4ccc-b6d6-8c3ed251dbee"
      },
      "outputs": [
        {
          "name": "stdout",
          "output_type": "stream",
          "text": [
            "     place_id             city                place_name      types  rating  \\\n",
            "1           2             Bali       Air Terjun Sekumpul  AirTerjun     3.9   \n",
            "34         35    Sumatra Barat  Air Terjun Sarasah Bunta  AirTerjun     4.5   \n",
            "43         44            Jambi         Candi Muaro Jambi      Candi     4.5   \n",
            "201       202          Lampung      Pantai Sari Ringgung     Pantai     4.3   \n",
            "249       250  Sumatra Selatan               Sungai Musi     Sungai     4.4   \n",
            "\n",
            "     user_ratings_total                                            address  \\\n",
            "1                   363      Bebetin, Kec. Sawan, Kabupaten Buleleng, Bali   \n",
            "34                 2070  Sarasah bunta.lembah harau, Kampuang sarosah, ...   \n",
            "43                 1814  GMC8+RRP, Muaro Jambi, Kec. Maro Sebo, Kabupat...   \n",
            "201                7652  Jl. Way Ratai No.KM. 14, Sidodadi, Teluk Panda...   \n",
            "249                1147                                   Sumatera Selatan   \n",
            "\n",
            "    photos       lat         lng                             coordinate  \\\n",
            "1      NaN -8.177531  115.182582  {'lat':-8.1775308, 'lng':115.1825825}   \n",
            "34     NaN -0.108217  100.675378  {'lat':-0.1082169, 'lng':100.6753776}   \n",
            "43     NaN  1.477900  103.667100         {'lat':1.4779, 'lng':103.6671}   \n",
            "201    NaN  5.557500  105.252200         {'lat':5.5575, 'lng':105.2522}   \n",
            "249    NaN -2.978509  104.039748   {'lat':-2.9785093, 'lng':104.039748}   \n",
            "\n",
            "     phone_number                                        description  \n",
            "1             NaN  Air Terjun Sekumpul merupakan salah satu air t...  \n",
            "34            NaN                                                NaN  \n",
            "43            NaN                                                NaN  \n",
            "201           NaN                                                NaN  \n",
            "249           NaN                                                NaN  \n"
          ]
        }
      ],
      "source": [
        "print(destination[destination['place_id'].isin(recommended_place_id)])"
      ]
    },
    {
      "cell_type": "code",
      "execution_count": null,
      "id": "0786253a",
      "metadata": {
        "id": "0786253a",
        "outputId": "78b68b4a-64e0-43f9-d584-1ab72d436e31"
      },
      "outputs": [
        {
          "name": "stderr",
          "output_type": "stream",
          "text": [
            "WARNING:absl:Found untraced functions such as _update_step_xla while saving (showing 1 of 1). These functions will not be directly callable after loading.\n"
          ]
        },
        {
          "name": "stdout",
          "output_type": "stream",
          "text": [
            "INFO:tensorflow:Assets written to: keras_recommender\\assets\n"
          ]
        },
        {
          "name": "stderr",
          "output_type": "stream",
          "text": [
            "INFO:tensorflow:Assets written to: keras_recommender\\assets\n"
          ]
        }
      ],
      "source": [
        "model.save('keras_recommender')"
      ]
    },
    {
      "cell_type": "code",
      "execution_count": null,
      "id": "54fb76d8",
      "metadata": {
        "id": "54fb76d8"
      },
      "outputs": [],
      "source": [
        "model.save('keras_recommender')"
      ]
    }
  ],
  "metadata": {
    "colab": {
      "provenance": [],
      "include_colab_link": true
    },
    "kernelspec": {
      "display_name": "Python 3 (ipykernel)",
      "language": "python",
      "name": "python3"
    },
    "language_info": {
      "codemirror_mode": {
        "name": "ipython",
        "version": 3
      },
      "file_extension": ".py",
      "mimetype": "text/x-python",
      "name": "python",
      "nbconvert_exporter": "python",
      "pygments_lexer": "ipython3",
      "version": "3.9.7"
    }
  },
  "nbformat": 4,
  "nbformat_minor": 5
}